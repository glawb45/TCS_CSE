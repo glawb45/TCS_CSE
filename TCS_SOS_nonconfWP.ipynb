{
 "cells": [
  {
   "cell_type": "code",
   "execution_count": 1,
   "id": "c9775adf-9279-4346-90d2-82e5b595cd78",
   "metadata": {},
   "outputs": [],
   "source": [
    "import pandas as pd\n",
    "import numpy as np\n",
    "import requests\n",
    "from bs4 import BeautifulSoup\n",
    "from io import StringIO\n",
    "from selenium import webdriver\n",
    "from selenium.webdriver.chrome.options import Options\n",
    "from selenium.webdriver.common.by import By\n",
    "import time"
   ]
  },
  {
   "cell_type": "code",
   "execution_count": 2,
   "id": "5b7feae9-453e-49f8-a2e6-fd209d2916f6",
   "metadata": {},
   "outputs": [],
   "source": [
    "years = [2023, 2024, 2025] ## get list of years to import \n",
    "base_url = \"https://www.warrennolan.com/softball/{}/sos-rpi\" ## get url"
   ]
  },
  {
   "cell_type": "code",
   "execution_count": 4,
   "id": "e97f2f2c-8f1f-4494-b0e4-876bdcc3c13d",
   "metadata": {},
   "outputs": [
    {
     "name": "stderr",
     "output_type": "stream",
     "text": [
      "/var/folders/rp/gf132r1n5bj14p__kxdf2hrm0000gp/T/ipykernel_4860/1123037262.py:13: FutureWarning: Passing literal html to 'read_html' is deprecated and will be removed in a future version. To read from a literal string, wrap it in a 'StringIO' object.\n",
      "  df = pd.read_html(str(table))[0]\n",
      "/var/folders/rp/gf132r1n5bj14p__kxdf2hrm0000gp/T/ipykernel_4860/1123037262.py:13: FutureWarning: Passing literal html to 'read_html' is deprecated and will be removed in a future version. To read from a literal string, wrap it in a 'StringIO' object.\n",
      "  df = pd.read_html(str(table))[0]\n"
     ]
    },
    {
     "name": "stdout",
     "output_type": "stream",
     "text": [
      "            Team     SOS  Rank Opp Record  Opp Win Percent  Year\n",
      "0       Stanford  0.6372     1  2215-1074           0.6731  2023\n",
      "1       Oklahoma  0.6286     2  2260-1158           0.6609  2023\n",
      "2        Alabama  0.6211     3  2412-1278           0.6535  2023\n",
      "3            LSU  0.6151     4  2087-1155           0.6436  2023\n",
      "4  Florida State  0.6151     5  2394-1298           0.6481  2023\n"
     ]
    },
    {
     "name": "stderr",
     "output_type": "stream",
     "text": [
      "/var/folders/rp/gf132r1n5bj14p__kxdf2hrm0000gp/T/ipykernel_4860/1123037262.py:13: FutureWarning: Passing literal html to 'read_html' is deprecated and will be removed in a future version. To read from a literal string, wrap it in a 'StringIO' object.\n",
      "  df = pd.read_html(str(table))[0]\n"
     ]
    }
   ],
   "source": [
    "all_years_data = []\n",
    "\n",
    "for year in years:\n",
    "    url = base_url.format(year)\n",
    "    response = requests.get(url)\n",
    "\n",
    "    soup = BeautifulSoup(response.text, 'html.parser')\n",
    "\n",
    "    # Find the first table on the page (it's already nicely formatted)\n",
    "    table = soup.find('table')\n",
    "\n",
    "    # Convert the table to a dataframe\n",
    "    df = pd.read_html(str(table))[0]\n",
    "    df[\"Year\"] = year  # Add year column\n",
    "\n",
    "    all_years_data.append(df)\n",
    "\n",
    "# Combine all years into one dataframe\n",
    "sos = pd.concat(all_years_data, ignore_index=True)\n",
    "\n",
    "# Preview the combined dataframe\n",
    "print(sos.head())\n"
   ]
  },
  {
   "cell_type": "code",
   "execution_count": 5,
   "id": "0484c615-5d45-4f24-96a5-97f00e4f8d93",
   "metadata": {},
   "outputs": [],
   "source": [
    "sos.to_csv(\"sos.csv\")"
   ]
  },
  {
   "cell_type": "code",
   "execution_count": 2,
   "id": "fae617be-7bd6-4c18-bd5d-a5fce7574e83",
   "metadata": {},
   "outputs": [],
   "source": [
    "years_nonconf = list(range(2021, 2026)) ## get list of years to import \n",
    "base_url = \"https://d1softball.com/nitty-gritty/?season={}\" ## get url"
   ]
  },
  {
   "cell_type": "code",
   "execution_count": 3,
   "id": "f1b04d23-6f7c-4c78-a966-5f0c693f592a",
   "metadata": {},
   "outputs": [],
   "source": [
    "# Set up headless browser\n",
    "options = Options()\n",
    "options.headless = True\n",
    "driver = webdriver.Chrome(options=options)"
   ]
  },
  {
   "cell_type": "code",
   "execution_count": 4,
   "id": "bc164d9d-bb4b-4ba6-b6d1-1480e1048450",
   "metadata": {},
   "outputs": [
    {
     "name": "stderr",
     "output_type": "stream",
     "text": [
      "/var/folders/rp/gf132r1n5bj14p__kxdf2hrm0000gp/T/ipykernel_7045/2795322715.py:10: FutureWarning: Passing literal html to 'read_html' is deprecated and will be removed in a future version. To read from a literal string, wrap it in a 'StringIO' object.\n",
      "  tables = pd.read_html(driver.page_source)\n",
      "/var/folders/rp/gf132r1n5bj14p__kxdf2hrm0000gp/T/ipykernel_7045/2795322715.py:10: FutureWarning: Passing literal html to 'read_html' is deprecated and will be removed in a future version. To read from a literal string, wrap it in a 'StringIO' object.\n",
      "  tables = pd.read_html(driver.page_source)\n",
      "/var/folders/rp/gf132r1n5bj14p__kxdf2hrm0000gp/T/ipykernel_7045/2795322715.py:10: FutureWarning: Passing literal html to 'read_html' is deprecated and will be removed in a future version. To read from a literal string, wrap it in a 'StringIO' object.\n",
      "  tables = pd.read_html(driver.page_source)\n",
      "/var/folders/rp/gf132r1n5bj14p__kxdf2hrm0000gp/T/ipykernel_7045/2795322715.py:10: FutureWarning: Passing literal html to 'read_html' is deprecated and will be removed in a future version. To read from a literal string, wrap it in a 'StringIO' object.\n",
      "  tables = pd.read_html(driver.page_source)\n",
      "/var/folders/rp/gf132r1n5bj14p__kxdf2hrm0000gp/T/ipykernel_7045/2795322715.py:10: FutureWarning: Passing literal html to 'read_html' is deprecated and will be removed in a future version. To read from a literal string, wrap it in a 'StringIO' object.\n",
      "  tables = pd.read_html(driver.page_source)\n"
     ]
    },
    {
     "name": "stdout",
     "output_type": "stream",
     "text": [
      "  Unnamed: 0_level_0 Unnamed: 1_level_0  Overall         RPI Change        \\\n",
      "                 RPI               Team   Record RPI SOS      1-Day 7-Day   \n",
      "0                  1           Oklahoma     56-4   1  16          -     -   \n",
      "1                  2            Alabama     52-9   2   4          -     -   \n",
      "2                  3               UCLA     47-7   3   3          -     -   \n",
      "3                  4      Florida State  49-13-1   4  11          -     -   \n",
      "4                  5            Florida    45-11   5   6          -     -   \n",
      "\n",
      "  Non-Conference         Location                 RPI Quads                 \\\n",
      "          Record RPI SOS     Home    Road Neutral    Quad 1 Quad 2  Quad 3   \n",
      "0           37-3   5  39     18-0    18-2    20-2      23-4    7-0     7-0   \n",
      "1           26-3   4  28     36-4    13-3     3-2      24-8   11-1     6-0   \n",
      "2           21-3   3  11     27-2    16-2     4-3      17-7    7-0    17-0   \n",
      "3           22-7   1  10     24-3  15-4-1    10-6      15-9    7-1  18-2-1   \n",
      "4           24-3   2  21     28-5    15-6     2-0      13-8    9-2    16-1   \n",
      "\n",
      "          Year  \n",
      "  Quad 4        \n",
      "0   13-0  2021  \n",
      "1    8-0  2021  \n",
      "2    2-0  2021  \n",
      "3    9-1  2021  \n",
      "4    6-0  2021  \n"
     ]
    }
   ],
   "source": [
    "all_years_data = []\n",
    "\n",
    "for year in years_nonconf:\n",
    "    driver.get(base_url.format(year))\n",
    "    time.sleep(2)\n",
    "\n",
    "    frames = []\n",
    "    while True:\n",
    "        # Read whatever table is currently visible\n",
    "        tables = pd.read_html(driver.page_source)\n",
    "        if not tables:\n",
    "            break\n",
    "        for table in tables:\n",
    "            frames.append(table.assign(Year=year))\n",
    "\n",
    "\n",
    "        # Attempt to click \"Next\" or \"Show More\"\n",
    "        try:\n",
    "            nxt = driver.find_element(By.XPATH, \"//a[text()='Next' or text()='›' or text()='>']\")\n",
    "            # If it's disabled, stop\n",
    "            if \"disabled\" in nxt.get_attribute(\"class\").lower():\n",
    "                break\n",
    "            nxt.click()\n",
    "            time.sleep(2)\n",
    "        except:\n",
    "            break\n",
    "\n",
    "    if frames:\n",
    "        all_years_data.append(pd.concat(frames, ignore_index=True))\n",
    "\n",
    "driver.quit()\n",
    "\n",
    "# Combine into one DataFrame and export to HTML\n",
    "nonconf = pd.concat(all_years_data, ignore_index=True)\n",
    "#nonconf.to_html(\"nonconf_all_years.html\", index=False)\n",
    "\n",
    "print(nonconf.head())"
   ]
  },
  {
   "cell_type": "code",
   "execution_count": 5,
   "id": "0e5e1d6a-1425-4df7-9e39-d2cbe4c0279f",
   "metadata": {},
   "outputs": [],
   "source": [
    "nonconf.to_csv(\"nonconf_wp.csv\")"
   ]
  }
 ],
 "metadata": {
  "kernelspec": {
   "display_name": "Python 3 (ipykernel)",
   "language": "python",
   "name": "python3"
  },
  "language_info": {
   "codemirror_mode": {
    "name": "ipython",
    "version": 3
   },
   "file_extension": ".py",
   "mimetype": "text/x-python",
   "name": "python",
   "nbconvert_exporter": "python",
   "pygments_lexer": "ipython3",
   "version": "3.11.5"
  }
 },
 "nbformat": 4,
 "nbformat_minor": 5
}
